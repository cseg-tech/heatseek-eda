{
 "cells": [
  {
   "cell_type": "code",
   "execution_count": 1,
   "metadata": {},
   "outputs": [],
   "source": [
    "import csv\n",
    "import datetime, pytz\n",
    "from datetime import datetime, timedelta\n",
    "from collections import defaultdict\n",
    "import matplotlib.pyplot as plt\n",
    "import pandas as pd\n",
    "import os"
   ]
  },
  {
   "cell_type": "code",
   "execution_count": 2,
   "metadata": {
    "scrolled": true
   },
   "outputs": [
    {
     "data": {
      "text/html": [
       "<div>\n",
       "<style scoped>\n",
       "    .dataframe tbody tr th:only-of-type {\n",
       "        vertical-align: middle;\n",
       "    }\n",
       "\n",
       "    .dataframe tbody tr th {\n",
       "        vertical-align: top;\n",
       "    }\n",
       "\n",
       "    .dataframe thead th {\n",
       "        text-align: right;\n",
       "    }\n",
       "</style>\n",
       "<table border=\"1\" class=\"dataframe\">\n",
       "  <thead>\n",
       "    <tr style=\"text-align: right;\">\n",
       "      <th></th>\n",
       "      <th>user_id</th>\n",
       "      <th>address</th>\n",
       "      <th>zip_code</th>\n",
       "      <th>apartment</th>\n",
       "      <th>sensor_id</th>\n",
       "      <th>bbl</th>\n",
       "      <th>temp</th>\n",
       "      <th>created_at</th>\n",
       "      <th>outdoor_temp</th>\n",
       "      <th>violation</th>\n",
       "    </tr>\n",
       "  </thead>\n",
       "  <tbody>\n",
       "    <tr>\n",
       "      <td>0</td>\n",
       "      <td>381.0</td>\n",
       "      <td>124 E 176th St</td>\n",
       "      <td>10453.0</td>\n",
       "      <td>6J</td>\n",
       "      <td>feather0090</td>\n",
       "      <td>2.028260e+09</td>\n",
       "      <td>66</td>\n",
       "      <td>2019-01-30 23:58:43</td>\n",
       "      <td>11.0</td>\n",
       "      <td>True</td>\n",
       "    </tr>\n",
       "    <tr>\n",
       "      <td>1</td>\n",
       "      <td>390.0</td>\n",
       "      <td>1802 Ocean Parkway</td>\n",
       "      <td>11223.0</td>\n",
       "      <td>C4</td>\n",
       "      <td>feather0101</td>\n",
       "      <td>3.066810e+09</td>\n",
       "      <td>69</td>\n",
       "      <td>2019-01-30 23:58:19</td>\n",
       "      <td>14.0</td>\n",
       "      <td>False</td>\n",
       "    </tr>\n",
       "    <tr>\n",
       "      <td>2</td>\n",
       "      <td>492.0</td>\n",
       "      <td>341 E 19th St</td>\n",
       "      <td>11226.0</td>\n",
       "      <td>3E</td>\n",
       "      <td>feather0118</td>\n",
       "      <td>3.051620e+09</td>\n",
       "      <td>68</td>\n",
       "      <td>2019-01-30 23:54:54</td>\n",
       "      <td>13.0</td>\n",
       "      <td>False</td>\n",
       "    </tr>\n",
       "    <tr>\n",
       "      <td>3</td>\n",
       "      <td>389.0</td>\n",
       "      <td>4836 41st St</td>\n",
       "      <td>11104.0</td>\n",
       "      <td>2F</td>\n",
       "      <td>feather0024</td>\n",
       "      <td>4.002020e+09</td>\n",
       "      <td>50</td>\n",
       "      <td>2019-01-30 23:50:40</td>\n",
       "      <td>16.0</td>\n",
       "      <td>True</td>\n",
       "    </tr>\n",
       "    <tr>\n",
       "      <td>4</td>\n",
       "      <td>167.0</td>\n",
       "      <td>150 Court St</td>\n",
       "      <td>11201.0</td>\n",
       "      <td>NaN</td>\n",
       "      <td>feather0115</td>\n",
       "      <td>3.002920e+09</td>\n",
       "      <td>69</td>\n",
       "      <td>2019-01-30 23:50:16</td>\n",
       "      <td>14.0</td>\n",
       "      <td>False</td>\n",
       "    </tr>\n",
       "  </tbody>\n",
       "</table>\n",
       "</div>"
      ],
      "text/plain": [
       "   user_id             address  zip_code apartment    sensor_id           bbl  \\\n",
       "0    381.0      124 E 176th St   10453.0        6J  feather0090  2.028260e+09   \n",
       "1    390.0  1802 Ocean Parkway   11223.0        C4  feather0101  3.066810e+09   \n",
       "2    492.0       341 E 19th St   11226.0        3E  feather0118  3.051620e+09   \n",
       "3    389.0        4836 41st St   11104.0        2F  feather0024  4.002020e+09   \n",
       "4    167.0        150 Court St   11201.0       NaN  feather0115  3.002920e+09   \n",
       "\n",
       "   temp           created_at  outdoor_temp  violation  \n",
       "0    66  2019-01-30 23:58:43          11.0       True  \n",
       "1    69  2019-01-30 23:58:19          14.0      False  \n",
       "2    68  2019-01-30 23:54:54          13.0      False  \n",
       "3    50  2019-01-30 23:50:40          16.0       True  \n",
       "4    69  2019-01-30 23:50:16          14.0      False  "
      ]
     },
     "execution_count": 2,
     "metadata": {},
     "output_type": "execute_result"
    }
   ],
   "source": [
    "temp_01 = pd.read_csv(\"data/2018-2019 data pt 1_Oct 01 2018 to Jan 31 2019.csv\")\n",
    "temp_02 = pd.read_csv(\"data/2018-2019 data pt 2_ Feb 01 2019 to May 31 2019.csv\")\n",
    "df = pd.concat([temp_01, temp_02])\n",
    "\n",
    "# remove all columns except for \"created_at\" and \"violation\"\n",
    "# TODO: why doesn't this work\n",
    "df.drop(columns=['user_id', 'address', 'zip_code', 'apartment', 'sensor_id', 'bbl', 'temp', 'outdoor_temp'])\n",
    "df.head()"
   ]
  },
  {
   "cell_type": "code",
   "execution_count": 6,
   "metadata": {},
   "outputs": [],
   "source": [
    "# Modified from Archived Scripts/Consec Violation Hist and Day Time_eda.ipynb\n",
    "\n",
    "def bin_by_time(dataframe, time, day_night):\n",
    "    \n",
    "    \"\"\"\n",
    "    Bins all temperature violations (as defined by NY law) in the csv file by hour\n",
    "    :param input_csv: path to input csv\n",
    "    :type input_csv: str\n",
    "    :param time: the aspect of timestamp to bin by, e.g. month, day, hour.\n",
    "    :type time: str\n",
    "    :param day_night: the time of day (day or night) to look at.\n",
    "    :type day_night: str\n",
    "    :return: dictionary of lists where keys are time slices, values are lists of records where a violation occured\n",
    "    :rtype: dict(list)\n",
    "    \"\"\"\n",
    "    \n",
    "    # keys are values of time parameter, values are lists of rows\n",
    "    violations = defaultdict(list)\n",
    "    for row in df.itertuples(index=False):\n",
    "        created_at = getattr(row, \"created_at\")\n",
    "        if getattr(row, \"violation\") == True:\n",
    "            created = datetime.strptime(created_at, \"%Y-%m-%d %H:%M:%S\")\n",
    "            # datetime formatting to convert UTC to EST or EDT as appropriate\n",
    "            # for EDA only! stick to UTC for actual automation.\n",
    "            # hardcoding timezone since our domain is very constrained.\n",
    "            created = created.replace(tzinfo=pytz.utc)\n",
    "            created = created.astimezone(pytz.timezone('US/Eastern'))\n",
    "            if day_night == \"day\":\n",
    "                if created.hour >= 6 and created.hour <= 21:\n",
    "                    violations[getattr(created, time)].append(row)\n",
    "                    # looking only at day time hours\n",
    "            elif day_night == \"night\":\n",
    "                if created.hour >= 22 or created.hour <= 5:\n",
    "                    violations[getattr(created, time)].append(row)\n",
    "                    # looking only at night time hours\n",
    "            else:\n",
    "                violations[getattr(created, time)].append(row)\n",
    "            # modified the code from Daniel to output only Day time hour data, Night time hour data, or AlL\n",
    "    return violations\n",
    "\n",
    "\n",
    "def plot_time_bins(title, time_bins):\n",
    "    \"\"\"\n",
    "    Make a bar graph of total violations across all users with a bin for each time\n",
    "    :param time_bins: a dictionary of lists keyed by time, value is list of violations occurring during that time\n",
    "    :type time_bins: dict[list]\n",
    "    :param label: the label for the x axis of the plot (what type of time slice this is)\n",
    "    :type label: str\n",
    "    \"\"\"\n",
    "    \n",
    "    violations_per_time = []\n",
    "    tick_labels = []\n",
    "    # get tick labels in order\n",
    "    for time_slice, records in sorted(time_bins.items(), key=lambda x: x[0]):\n",
    "        violations_per_time.append(len(records))\n",
    "        tick_labels.append(time_slice)\n",
    "        print(str(time_slice) + ': ' + str(len(records)))\n",
    "    \n",
    "    plt.bar(range(len(violations_per_time)), violations_per_time, tick_label=tick_labels)\n",
    "    plt.title(title)\n",
    "    plt.xlabel('Hour of the Day (US/Eastern)')\n",
    "    plt.ylabel('Total Violations')\n",
    "    plt.show()"
   ]
  },
  {
   "cell_type": "code",
   "execution_count": 7,
   "metadata": {},
   "outputs": [
    {
     "name": "stdout",
     "output_type": "stream",
     "text": [
      "6: 865\n",
      "7: 715\n",
      "8: 581\n",
      "9: 547\n",
      "10: 524\n",
      "11: 483\n",
      "12: 459\n",
      "13: 449\n",
      "14: 448\n",
      "15: 452\n",
      "16: 481\n",
      "17: 494\n",
      "18: 522\n",
      "19: 489\n",
      "20: 476\n",
      "21: 479\n"
     ]
    },
    {
     "data": {
      "image/png": "[encoded data removed]",
      "text/plain": [
       "<Figure size 432x288 with 1 Axes>"
      ]
     },
     "metadata": {
      "needs_background": "light"
     },
     "output_type": "display_data"
    }
   ],
   "source": [
    "time_bins = bin_by_time(df, 'hour', 'day')\n",
    "plot_time_bins('Number of Total Violations By Hour of Day - During Daytime Hours', time_bins)"
   ]
  },
  {
   "cell_type": "code",
   "execution_count": 8,
   "metadata": {},
   "outputs": [
    {
     "name": "stdout",
     "output_type": "stream",
     "text": [
      "0: 176\n",
      "1: 185\n",
      "2: 197\n",
      "3: 196\n",
      "4: 202\n",
      "5: 205\n",
      "22: 175\n",
      "23: 177\n"
     ]
    },
    {
     "data": {
      "image/png": "[encoded data removed]",
      "text/plain": [
       "<Figure size 432x288 with 1 Axes>"
      ]
     },
     "metadata": {
      "needs_background": "light"
     },
     "output_type": "display_data"
    }
   ],
   "source": [
    "time_bins = bin_by_time(df, 'hour', 'night')\n",
    "plot_time_bins('Number of Total Violations By Hour of Day - During Nighttime Hours', time_bins)"
   ]
  },
  {
   "cell_type": "code",
   "execution_count": 10,
   "metadata": {},
   "outputs": [
    {
     "name": "stdout",
     "output_type": "stream",
     "text": [
      "0: 176\n",
      "1: 185\n",
      "2: 197\n",
      "3: 196\n",
      "4: 202\n",
      "5: 205\n",
      "6: 865\n",
      "7: 715\n",
      "8: 581\n",
      "9: 547\n",
      "10: 524\n",
      "11: 483\n",
      "12: 459\n",
      "13: 449\n",
      "14: 448\n",
      "15: 452\n",
      "16: 481\n",
      "17: 494\n",
      "18: 522\n",
      "19: 489\n",
      "20: 476\n",
      "21: 479\n",
      "22: 175\n",
      "23: 177\n"
     ]
    },
    {
     "data": {
      "image/png": "[encoded data removed]",
      "text/plain": [
       "<Figure size 432x288 with 1 Axes>"
      ]
     },
     "metadata": {
      "needs_background": "light"
     },
     "output_type": "display_data"
    }
   ],
   "source": [
    "time_bins = bin_by_time(df, 'hour', 'all')\n",
    "plot_time_bins('Number of Total Violations By Hour of Day - During All Hours', time_bins)"
   ]
  },
  {
   "cell_type": "code",
   "execution_count": null,
   "metadata": {},
   "outputs": [],
   "source": []
  }
 ],
 "metadata": {
  "kernelspec": {
   "display_name": "Python 3",
   "language": "python",
   "name": "python3"
  },
  "language_info": {
   "codemirror_mode": {
    "name": "ipython",
    "version": 3
   },
   "file_extension": ".py",
   "mimetype": "text/x-python",
   "name": "python",
   "nbconvert_exporter": "python",
   "pygments_lexer": "ipython3",
   "version": "3.7.4"
  }
 },
 "nbformat": 4,
 "nbformat_minor": 2
}
