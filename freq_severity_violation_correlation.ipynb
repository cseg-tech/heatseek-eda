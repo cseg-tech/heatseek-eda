{
 "cells": [
  {
   "cell_type": "code",
   "execution_count": 14,
   "metadata": {},
   "outputs": [],
   "source": [
    "'''\n",
    "Investiages the correlation between frequency and severity of violations\n",
    "through per user analyses\n",
    "\n",
    "1. Find frequency and severity for each user\n",
    "    - freq = (# hours of violation) / (total # hours recorded)\n",
    "    - sevr = sum of (required temperature - measured temperature)\n",
    "                for all violations\n",
    "2. Plot each user as a datapoint and perform regression\n",
    "3. Conclude\n",
    "'''\n",
    "\n",
    "import csv\n",
    "import sys\n",
    "import os\n",
    "from datetime import datetime"
   ]
  },
  {
   "cell_type": "code",
   "execution_count": 41,
   "metadata": {
    "collapsed": true
   },
   "outputs": [],
   "source": [
    "def calculate_sevr(time, measured_temp, outside_temp):\n",
    "    '''\n",
    "    Calculates (required temperature - measured temperature),\n",
    "    taking into account the time to adjust required temp.\n",
    "    Returns 0 if measured_temp is not a violation\n",
    "    :type time: datetime\n",
    "    :type measured_temp: int\n",
    "    :type outside_temp: int (optional for nighttime)\n",
    "    '''\n",
    "    measured_temp = int(measured_temp)\n",
    "    try:\n",
    "        outside_temp = int(outside_temp)\n",
    "    except Exception:\n",
    "        outside_temp = None\n",
    "    diff = 0\n",
    "    day = [hr for hr in range(6, 22)] # day: 6 AM - 10 PM\n",
    "    night = [22, 23, 0, 1, 2, 3, 4, 5] # night: 10 PM - 6 AM\n",
    "    if time.hour in day:\n",
    "        if not outside_temp:\n",
    "            # Daytime calculation requires outside_temp, but csv files sometimes don't\n",
    "            # satisfy this condition so treating not-enough-info as just non-violationf or now\n",
    "            pass\n",
    "            # raise ValueError('Daytime calculation requires outside_temp information')\n",
    "        elif outside_temp < 55:\n",
    "            required_temp = 68\n",
    "            diff = required_temp - measured_temp\n",
    "        else:\n",
    "            # Not a violation\n",
    "            pass\n",
    "        \n",
    "    if time.hour in night:\n",
    "        required_temp = 62\n",
    "        diff = required_temp - measured_temp\n",
    "    \n",
    "    # Turning non-violating diff's into 0 \n",
    "    if diff < 0:\n",
    "        diff = 0\n",
    "        \n",
    "    return diff\n",
    "        "
   ]
  },
  {
   "cell_type": "code",
   "execution_count": 42,
   "metadata": {
    "collapsed": true
   },
   "outputs": [],
   "source": [
    "class Row:\n",
    "    def __init__(self, user_id, sensor_id, temp, created_at, outdoor_temp, violation):\n",
    "        self.user_id = user_id\n",
    "        self.sensor_id = sensor_id\n",
    "        self.temp = temp\n",
    "        self.created_at = created_at\n",
    "        self.outdoor_temp = outdoor_temp\n",
    "        self.violation = violation\n",
    "        \n",
    "    def __repr__(self):\n",
    "        return f'<Row Object> user_id: {self.user_id}'\n",
    "    \n",
    "    def __str__(self):\n",
    "        return __repr__(self)\n",
    "    \n",
    "    def __eq__(self, another_row):\n",
    "        '''\n",
    "        Two Row objects are equal if they have the same user_id\n",
    "        '''\n",
    "        return self.user_id == another_row.user_id\n",
    "    "
   ]
  },
  {
   "cell_type": "code",
   "execution_count": 43,
   "metadata": {
    "collapsed": true
   },
   "outputs": [],
   "source": [
    "class User:\n",
    "    def __init__(self, row):\n",
    "        self.user_id = row.user_id\n",
    "        self.row_list = [row]\n",
    "        self.num_violation = 0\n",
    "        if row.violation:\n",
    "            self.num_violation += 1\n",
    "        \n",
    "    def add_row(self, row):\n",
    "        if self.user_id != row.user_id:\n",
    "            raise ValueError('This row does not belong to this user')\n",
    "        self.row_list.append(row)\n",
    "        if row.violation:\n",
    "            self.num_violation += 1\n",
    "        \n",
    "    def __repr__(self):\n",
    "        return f'<User Object> user_id: {self.user_id}'\n",
    "    \n",
    "    def __str__(self):\n",
    "        return __repr__(self)\n",
    "    \n",
    "    def freq(self):\n",
    "        '''\n",
    "        Calculates the frequency of violation for this user\n",
    "        freq = (# hours of violation) / (total # hours recorded)\n",
    "        '''\n",
    "        return self.num_violation / len(self.row_list)\n",
    "    \n",
    "    def sevr(self):\n",
    "        '''\n",
    "        Calculates the severity of violation for this user\n",
    "        '''\n",
    "        severity = 0\n",
    "        for row in self.row_list:\n",
    "            severity += calculate_sevr(row.created_at, row.temp, row.outdoor_temp)\n",
    "        return severity\n",
    "        "
   ]
  },
  {
   "cell_type": "code",
   "execution_count": 44,
   "metadata": {
    "collapsed": true
   },
   "outputs": [],
   "source": [
    "def import_file(path):\n",
    "    '''\n",
    "    Imports dataset in a standardized manner\n",
    "    '''\n",
    "    \n",
    "    users = []\n",
    "\n",
    "    with open(path, 'r', newline='') as f:\n",
    "        csv_reader = csv.reader(f)\n",
    "        next(csv_reader)\n",
    "        for row in csv_reader:\n",
    "            row[0] = int(row[0])\n",
    "            row[2] = int(row[2])\n",
    "            row[3] = datetime.strptime(row[3], \"%Y-%m-%d %H:%M:%S\")\n",
    "            row[4] = row[4]\n",
    "            if row[5] == 'true':\n",
    "                row[5] = True\n",
    "            elif row[5] == 'false':\n",
    "                row[5] = False\n",
    "            else:\n",
    "                raise ValueError('unexpected value for violation')\n",
    "            row = Row(*row)\n",
    "            user_found = False\n",
    "            for user in users:\n",
    "                if row.user_id == user.user_id:\n",
    "                    user.add_row(row)\n",
    "                    user_found = True\n",
    "            if not user_found:\n",
    "                users.append(User(row))\n",
    "    return users"
   ]
  },
  {
   "cell_type": "code",
   "execution_count": 45,
   "metadata": {
    "collapsed": true
   },
   "outputs": [],
   "source": [
    "def compute_freq_sevr(users):\n",
    "    '''\n",
    "    Returns datapoints in the format (freq, sevr) for each user in users\n",
    "    '''\n",
    "    datapoints = []\n",
    "    for user in users:\n",
    "        freq = user.freq()\n",
    "        sevr = user.sevr()\n",
    "        datapoint = (freq, sevr)\n",
    "        datapoints.append(datapoint)\n",
    "    return datapoints"
   ]
  },
  {
   "cell_type": "code",
   "execution_count": 46,
   "metadata": {},
   "outputs": [
    {
     "name": "stdout",
     "output_type": "stream",
     "text": [
      "[(0.0024104683195592287, 40), (0.027123483226266953, 206), (0.09607438016528926, 1489), (0.022382920110192838, 257), (0.0, 0), (0.009986225895316805, 55), (0.008861320336730172, 44), (0.04509466437177281, 319), (0.4056473829201102, 4551), (0.0, 0), (0.04511019283746556, 336), (0.0027041644131963224, 2), (0.0165, 81), (0.0038461538461538464, 47), (0.0019851116625310174, 6), (0.1771274547554871, 2405), (0.04338842975206612, 205), (0.09641873278236915, 771), (0.13739669421487602, 1158), (0.23519283746556474, 2382), (0.0, 0), (0.046153846153846156, 179), (0.09645194626248708, 1012), (0.008634646519158122, 47), (0.0010334137099552187, 4), (0.04581467447468136, 410), (0.03548053737512918, 410), (0.3644505683775405, 4895), (0.0, 0), (0.08307264511644073, 289), (0.0, 0), (0.0004847309743092584, 2), (0.18281845112145578, 1003), (0.005475989890480202, 27), (0.0014800197335964479, 6), (0.002530044275774826, 1), (0.38546458141674333, 3701), (0.017937219730941704, 31), (0.0024937655860349127, 0), (0.07729468599033816, 33), (0.00933125972006221, 38), (0.04081632653061224, 5), (0.0, 0), (0.0037313432835820895, 11), (0.0, 0)]\n"
     ]
    }
   ],
   "source": [
    "users = import_file('./data/dataset/clean_013118_053118.csv')\n",
    "print(compute_freq_sevr(users))"
   ]
  }
 ],
 "metadata": {
  "kernelspec": {
   "display_name": "Python 3",
   "language": "python",
   "name": "python3"
  },
  "language_info": {
   "codemirror_mode": {
    "name": "ipython",
    "version": 3
   },
   "file_extension": ".py",
   "mimetype": "text/x-python",
   "name": "python",
   "nbconvert_exporter": "python",
   "pygments_lexer": "ipython3",
   "version": "3.6.3"
  }
 },
 "nbformat": 4,
 "nbformat_minor": 2
}
