{
 "cells": [
  {
   "cell_type": "code",
   "execution_count": 4,
   "metadata": {},
   "outputs": [],
   "source": [
    "'''\n",
    "Investiages the correlation between frequency and severity of violations\n",
    "through per user analyses\n",
    "\n",
    "1. Find frequency and severity for each user\n",
    "    - freq = (# hours of violation) / (total # hours recorded)\n",
    "    - sevr = sum of (required temperature - measured temperature)\n",
    "                for all violations\n",
    "2. Plot each user as a datapoint and perform regression\n",
    "3. Conclude\n",
    "'''\n",
    "\n",
    "import csv\n",
    "import sys\n",
    "import os\n",
    "from datetime import datetime"
   ]
  },
  {
   "cell_type": "code",
   "execution_count": 11,
   "metadata": {
    "collapsed": true
   },
   "outputs": [],
   "source": [
    "def calculate_sevr(time, measured_temp, outside_temp):\n",
    "    '''\n",
    "    Calculates (required temperature - measured temperature),\n",
    "    taking into account the time to adjust required temp.\n",
    "    Returns 0 if measured_temp is not a violation\n",
    "    :type time: datetime\n",
    "    :type measured_temp: int\n",
    "    :type outside_temp: int (optional for nighttime)\n",
    "    '''\n",
    "    diff = 0\n",
    "    day = [hr for hr in range(6, 22)] # day: 6 AM - 10 PM\n",
    "    night = [22, 23, 0, 1, 2, 3, 4, 5] # night: 10 PM - 6 AM\n",
    "    if time.hour in day:\n",
    "        if not outside_temp:\n",
    "            raise ValueError('Daytime calculation requires outside_temp information')\n",
    "        elif outside_temp < 55:\n",
    "            required_temp = 68\n",
    "            diff = required_temp - measured_temp\n",
    "        else:\n",
    "            # Not a violation\n",
    "            pass\n",
    "        \n",
    "    if time.hour in night:\n",
    "        required_temp = 62\n",
    "        diff = required_temp - measured_temp\n",
    "    \n",
    "    # Turning non-violating diff's into 0 \n",
    "    if diff < 0:\n",
    "        diff = 0\n",
    "        \n",
    "    return diff\n",
    "        "
   ]
  },
  {
   "cell_type": "code",
   "execution_count": null,
   "metadata": {
    "collapsed": true
   },
   "outputs": [],
   "source": [
    "class Row:\n",
    "    def __init__(self, user_id, sensor_id, temp, created_at, outdoor_temp, violation):\n",
    "        self.user_id = user_id\n",
    "        self.sensor_id = sensor_id\n",
    "        self.temp = temp\n",
    "        self.created_at = created_at\n",
    "        self.outdoor_temp = outdoor_temp\n",
    "        self.violation = violation\n",
    "        \n",
    "    def __repr__(self):\n",
    "        return f'<Row Object> user_id: {self.user_id}'\n",
    "    \n",
    "    def __str__(self):\n",
    "        return __repr__(self)\n",
    "    \n",
    "    def __eq__(self, another_row):\n",
    "        '''\n",
    "        Two Row objects are equal if they have the same user_id\n",
    "        '''\n",
    "        return self.user_id == another_row.user_id\n",
    "    "
   ]
  },
  {
   "cell_type": "code",
   "execution_count": null,
   "metadata": {
    "collapsed": true
   },
   "outputs": [],
   "source": [
    "class User:\n",
    "    def __init__(self, row):\n",
    "        self.user_id = row.user_id\n",
    "        self.row_list = [row]\n",
    "        self.num_violation = 0\n",
    "        if row.violation:\n",
    "            self.num_violation += 1\n",
    "        \n",
    "    def add_row(self, row):\n",
    "        if self.user_id != row.user_id:\n",
    "            raise ValueError('This row does not belong to this user')\n",
    "        self.row_list.append(row)\n",
    "        if row.violation:\n",
    "            self.num_violation += 1\n",
    "        \n",
    "    def __repr__(self):\n",
    "        return f'<User Object> user_id: {self.user_id}'\n",
    "    \n",
    "    def __str__(self):\n",
    "        return __repr__(self)\n",
    "    \n",
    "    def freq(self):\n",
    "        '''\n",
    "        Calculates the frequency of violation for this user\n",
    "        freq = (# hours of violation) / (total # hours recorded)\n",
    "        '''\n",
    "        return self.num_violation / len(row_list)\n",
    "    \n",
    "    def sevr(self):\n",
    "        '''\n",
    "        Calculates the severity of violation for this user\n",
    "        '''\n",
    "        severity = 0\n",
    "        for row in self.row_list:\n",
    "            severity += calculate_sevr(row.created_at, row.temp, row.outdoor_temp)\n",
    "        return severity\n",
    "        "
   ]
  },
  {
   "cell_type": "code",
   "execution_count": null,
   "metadata": {
    "collapsed": true
   },
   "outputs": [],
   "source": [
    "def import_file(path):\n",
    "    '''\n",
    "    Imports dataset in a standardized manner\n",
    "    '''\n",
    "    \n",
    "    dataset = []\n",
    "\n",
    "    with open(path, 'r', newline='') as f:\n",
    "        csv_reader = csv.reader(f)\n",
    "        next(csv_reader)\n",
    "        for row in csv_reader:\n",
    "            temp_dict = {}\n",
    "            temp_dict['user_id'] = int(row[0])\n",
    "            temp_dict['sensor_id'] = row[1]\n",
    "            temp_dict['created_at'] = datetime.strptime(row[3], '%Y-%m-%d %H:%M:%S')\n",
    "            temp_dict['outdoor_temp'] = int(row[4])\n",
    "            \n",
    "        "
   ]
  }
 ],
 "metadata": {
  "kernelspec": {
   "display_name": "Python 3",
   "language": "python",
   "name": "python3"
  },
  "language_info": {
   "codemirror_mode": {
    "name": "ipython",
    "version": 3
   },
   "file_extension": ".py",
   "mimetype": "text/x-python",
   "name": "python",
   "nbconvert_exporter": "python",
   "pygments_lexer": "ipython3",
   "version": "3.6.3"
  }
 },
 "nbformat": 4,
 "nbformat_minor": 2
}
